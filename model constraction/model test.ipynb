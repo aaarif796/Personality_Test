{
 "cells": [
  {
   "cell_type": "code",
   "execution_count": 1,
   "id": "fb3aa04b",
   "metadata": {},
   "outputs": [],
   "source": [
    "from nltk.stem import WordNetLemmatizer\n",
    "from tqdm import tqdm\n",
    "import re\n",
    "import joblib\n",
    "import nltk\n",
    "import os\n",
    "import numpy\n",
    "from catboost import CatBoostClassifier"
   ]
  },
  {
   "cell_type": "code",
   "execution_count": 2,
   "id": "a83046a4",
   "metadata": {},
   "outputs": [],
   "source": [
    "text=[\"ENFP is an acronym that stands for Extraverted, Intuitive, Feeling, and Perceiving. The ENFP personality type is one of the 16 different types identified by the Myers-Briggs Type Indicator (MBTI). People with an ENFP personality are often described as enthusiastic, charismatic, charming, energetic, and independent.\"]"
   ]
  },
  {
   "cell_type": "code",
   "execution_count": 3,
   "id": "d1a21836",
   "metadata": {},
   "outputs": [
    {
     "name": "stderr",
     "output_type": "stream",
     "text": [
      "100%|██████████████████████████████████████████████████████████████████████████████████| 1/1 [00:00<00:00, 1006.31it/s]\n"
     ]
    }
   ],
   "source": [
    "def Lemmatizer():\n",
    "    lemmatizer=WordNetLemmatizer()\n",
    "def clear_text1(data):\n",
    "    data_length=[]\n",
    "    lemmatizer=WordNetLemmatizer()\n",
    "    cleaned_text=[]\n",
    "    for sentence in tqdm(data):\n",
    "        sentence=sentence.lower()\n",
    "        sentence=re.sub('https?://[^\\s<>\"]+|www\\.[^\\s<>\"]+','',sentence)\n",
    "        sentence=re.sub('[^0-9a-z]',' ',sentence)\n",
    "        data_length.append(len(sentence.split()))\n",
    "        cleaned_text.append(sentence)\n",
    "    return cleaned_text\n",
    "        \n",
    "text_data=clear_text1(text)\n",
    "target=joblib.load('target_enc1.pkl')\n",
    "vector=joblib.load('vectorizertext1.pkl')\n",
    "main_model=joblib.load('catboostmodel1.pkl')\n",
    "text_v=vector.transform(text_data).toarray()\n",
    "a=main_model.predict(text_v)\n",
    "result=target.classes_[a[0][0]]"
   ]
  },
  {
   "cell_type": "code",
   "execution_count": 4,
   "id": "15b1b4ba",
   "metadata": {},
   "outputs": [
    {
     "data": {
      "text/plain": [
       "'ENFP'"
      ]
     },
     "execution_count": 4,
     "metadata": {},
     "output_type": "execute_result"
    }
   ],
   "source": [
    "result"
   ]
  },
  {
   "cell_type": "code",
   "execution_count": 5,
   "id": "f26c5d33",
   "metadata": {},
   "outputs": [
    {
     "data": {
      "text/plain": [
       "array([[1]], dtype=int64)"
      ]
     },
     "execution_count": 5,
     "metadata": {},
     "output_type": "execute_result"
    }
   ],
   "source": [
    "a"
   ]
  },
  {
   "cell_type": "code",
   "execution_count": null,
   "id": "43199395",
   "metadata": {},
   "outputs": [],
   "source": []
  },
  {
   "cell_type": "code",
   "execution_count": null,
   "id": "c8372b11",
   "metadata": {},
   "outputs": [],
   "source": []
  },
  {
   "cell_type": "code",
   "execution_count": null,
   "id": "78fbdbb9",
   "metadata": {},
   "outputs": [],
   "source": []
  },
  {
   "cell_type": "code",
   "execution_count": null,
   "id": "a0814ff4",
   "metadata": {},
   "outputs": [],
   "source": []
  }
 ],
 "metadata": {
  "kernelspec": {
   "display_name": "Python 3 (ipykernel)",
   "language": "python",
   "name": "python3"
  },
  "language_info": {
   "codemirror_mode": {
    "name": "ipython",
    "version": 3
   },
   "file_extension": ".py",
   "mimetype": "text/x-python",
   "name": "python",
   "nbconvert_exporter": "python",
   "pygments_lexer": "ipython3",
   "version": "3.9.12"
  }
 },
 "nbformat": 4,
 "nbformat_minor": 5
}
